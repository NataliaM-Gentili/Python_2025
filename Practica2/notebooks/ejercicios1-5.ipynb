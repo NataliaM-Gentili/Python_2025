{
 "cells": [
  {
   "cell_type": "markdown",
   "metadata": {},
   "source": [
    "(Ej1) Leamos el Zen de Python"
   ]
  },
  {
   "cell_type": "code",
   "execution_count": 1,
   "metadata": {},
   "outputs": [],
   "source": [
    "zen_text = \"\"\"\n",
    "The Zen of Python, by Tim Peters\n",
    "\n",
    "Beautiful is better than ugly.\n",
    "Explicit is better than implicit.\n",
    "Simple is better than complex.\n",
    "Complex is better than complicated.\n",
    "Flat is better than nested.\n",
    "Sparse is better than dense.\n",
    "Readability counts.\n",
    "Special cases aren't special enough to break the rules.\n",
    "Although practicality beats purity.\n",
    "Errors should never pass silently.\n",
    "Unless explicitly silenced.\n",
    "In the face of ambiguity, refuse the temptation to guess.\n",
    "There should be one-- and preferably only one --obvious way to do it.      \n",
    "Although that way may not be obvious at first unless you're Dutch.\n",
    "Now is better than never.\n",
    "Although never is often better than *right* now.\n",
    "If the implementation is hard to explain, it's a bad idea.\n",
    "If the implementation is easy to explain, it may be a good idea.\n",
    "Namespaces are one honking great idea -- let's do more of those!\n",
    "\"\"\""
   ]
  },
  {
   "cell_type": "markdown",
   "metadata": {},
   "source": [
    "Debemos filtrar todas las líneas cuya segunda palabra comience con una vocal. Cómo lo hacemos??"
   ]
  },
  {
   "cell_type": "code",
   "execution_count": 2,
   "metadata": {},
   "outputs": [
    {
     "name": "stdout",
     "output_type": "stream",
     "text": [
      "Beautiful is better than ugly.\n",
      "Explicit is better than implicit.\n",
      "Simple is better than complex.\n",
      "Complex is better than complicated.\n",
      "Flat is better than nested.\n",
      "Sparse is better than dense.\n",
      "Unless explicitly silenced.\n",
      "Now is better than never.\n",
      "Namespaces are one honking great idea -- let's do more of those!\n"
     ]
    }
   ],
   "source": [
    "for line in zen_text.split(\"\\n\"):\n",
    "    words = line.split()\n",
    "    if len(words) > 1 and words[1][0] in \"AEIOUaeiou\": #podria hacer words[1][0].upper()\n",
    "        print(line)"
   ]
  },
  {
   "cell_type": "markdown",
   "metadata": {},
   "source": [
    "(Ej2) Ahora, queremos buscar el título con más palabras entre el siguiente listado:"
   ]
  },
  {
   "cell_type": "code",
   "execution_count": 3,
   "metadata": {},
   "outputs": [],
   "source": [
    "titles = [\n",
    "\"Speedrun de Super Mario en tiempo récord\",\n",
    "\"Charla sobre desarrollo de videojuegos\",\n",
    "\"Jugando al nuevo FPS del momento con amigos\",\n",
    "\"Música en vivo: improvisaciones al piano\"\n",
    "]"
   ]
  },
  {
   "cell_type": "markdown",
   "metadata": {},
   "source": [
    "Una posible solución es:"
   ]
  },
  {
   "cell_type": "code",
   "execution_count": 4,
   "metadata": {},
   "outputs": [
    {
     "name": "stdout",
     "output_type": "stream",
     "text": [
      "Jugando al nuevo FPS del momento con amigos\n"
     ]
    }
   ],
   "source": [
    "max = 0\n",
    "\n",
    "for line in titles:\n",
    "    #separamos cada palabra del titulo\n",
    "    words = line.split()\n",
    "    if len(words) > max:\n",
    "        max = len(words)\n",
    "        #volvemos a juntar las palabras \n",
    "        act = \" \".join(words)   \n",
    "print(act)"
   ]
  },
  {
   "cell_type": "markdown",
   "metadata": {},
   "source": [
    "(Ej3) Queremos filtrar las reglas de un servidor de Discord según la palabra clave ingresada por un usuario:"
   ]
  },
  {
   "cell_type": "code",
   "execution_count": 5,
   "metadata": {},
   "outputs": [],
   "source": [
    "rules = \"\"\"Respeta a los demás. No se permiten insultos ni lenguaje ofensivo.\n",
    "Evita el spam. No publiques enlaces sospechosos o repetitivos.\n",
    "No compartas información personal.\n",
    "Usa los canales adecuados para cada tema.\n",
    "Sigue las instrucciones de los moderadores.\"\"\""
   ]
  },
  {
   "cell_type": "code",
   "execution_count": 6,
   "metadata": {},
   "outputs": [],
   "source": [
    "clave = input(\"Ingrese la palabra que desea buscar: \")\n",
    "#separamos por renglones y luego por palabras\n",
    "for line in rules.split(\"\\n\"):\n",
    "    words = line.split()\n",
    "    for act in words:\n",
    "        #ambas son lower para filtrar mayusculas\n",
    "        if act.lower() == clave.lower():\n",
    "            print(line)\n",
    "            break"
   ]
  },
  {
   "cell_type": "markdown",
   "metadata": {},
   "source": [
    "(Ej4) Queremos validar un nombre de usuario acorde a los siguientes requerimientos:\n",
    "1. Debe contener al menos 5 caracteres.\n",
    "2. Debe contener al menos un número.\n",
    "3. Debe contener al menos una letra mayúscula.\n",
    "4. Solo puede contener letras y números."
   ]
  },
  {
   "cell_type": "code",
   "execution_count": 7,
   "metadata": {},
   "outputs": [
    {
     "name": "stdout",
     "output_type": "stream",
     "text": [
      "IMPORTANTE: EL USUARIO DEBE CONTENER AL MENOS UNA MAYUSCULA\n",
      "AL MENOS UN NUMERO Y NO DEBE CONTENER SIMBOLOS\n",
      "LONGITUD MINIMA REQUERIDA: 5 CARACTERES\n",
      "Usuario aceptado!\n"
     ]
    }
   ],
   "source": [
    "contiene = False\n",
    "tiene = False\n",
    "simbolos = True\n",
    "es = False\n",
    "cumple = False\n",
    "while not(cumple):\n",
    "\n",
    "    print(\"IMPORTANTE: EL USUARIO DEBE CONTENER AL MENOS UNA MAYUSCULA\")\n",
    "    print(\"AL MENOS UN NUMERO Y NO DEBE CONTENER SIMBOLOS\")\n",
    "    print(\"LONGITUD MINIMA REQUERIDA: 5 CARACTERES\")\n",
    "    name = input(\"Ingrese el nombre de usuario que desee adquirir: \")\n",
    "    for char in name:\n",
    "        # si contiene digito\n",
    "        if char.isdigit(): \n",
    "            contiene = True\n",
    "        # si contiene mayuscula\n",
    "        if char.isupper(): # == if (0x91 < ord(char) > 0x64):\n",
    "            tiene = True\n",
    "        # si contiene letras\n",
    "        if char.isalpha(): \n",
    "            es = True\n",
    "        # si no es un numero/letra    \n",
    "        if not(char.isalnum()): #  == (0x64 < ord(char) < 0x91 ) or (0x96 < ord(char) < 0x123):\n",
    "            simbolos = False\n",
    "    valores = contiene and tiene and es \n",
    "    valores = valores and (simbolos)\n",
    "    if (len(name)>= 5) and valores:\n",
    "        print(\"Usuario aceptado!\")\n",
    "        cumple = True\n",
    "    else: \n",
    "        print(\"No valido\")"
   ]
  },
  {
   "cell_type": "markdown",
   "metadata": {},
   "source": [
    "(Ej5) Queremos clasificar el tiempo de reacción de un jugador (medido en milisegundos).\n",
    "\n",
    "Disponemos: \n",
    "    1. Menos de 200 ms: Rápido\n",
    "    2. Entre 200 y 500 ms: Normal\n",
    "    3. Más de 500 ms: Lento\n"
   ]
  },
  {
   "cell_type": "code",
   "execution_count": 8,
   "metadata": {},
   "outputs": [
    {
     "name": "stdout",
     "output_type": "stream",
     "text": [
      "Categoria: Normal\n"
     ]
    }
   ],
   "source": [
    "velocidad = int(input(\"Ingrese su tiempo de reaccion en ms: \"))\n",
    "if (velocidad < 200):\n",
    "    print(\"Categoria: Rápido\")\n",
    "elif (200 < velocidad < 500):\n",
    "    print(\"Categoria: Normal\")\n",
    "else:\n",
    "    print(\"Categoria: Lento\")"
   ]
  },
  {
   "cell_type": "markdown",
   "metadata": {},
   "source": [
    "¿Encuentran algun error?"
   ]
  },
  {
   "cell_type": "markdown",
   "metadata": {},
   "source": [
    "¿Qué pasaría si el tiempo de reacción es igual a 200 ms??"
   ]
  },
  {
   "cell_type": "code",
   "execution_count": 1,
   "metadata": {},
   "outputs": [
    {
     "name": "stdout",
     "output_type": "stream",
     "text": [
      "Categoria: Rápido\n"
     ]
    }
   ],
   "source": [
    "velocidad = int(input(\"Ingrese su tiempo de reaccion en ms: \"))\n",
    "if (velocidad < 200):\n",
    "    print(\"Categoria: Rápido\")\n",
    "elif (200 <= velocidad < 500):\n",
    "    print(\"Categoria: Normal\")\n",
    "else:\n",
    "    print(\"Categoria: Lento\")"
   ]
  }
 ],
 "metadata": {
  "kernelspec": {
   "display_name": "venv",
   "language": "python",
   "name": "python3"
  },
  "language_info": {
   "codemirror_mode": {
    "name": "ipython",
    "version": 3
   },
   "file_extension": ".py",
   "mimetype": "text/x-python",
   "name": "python",
   "nbconvert_exporter": "python",
   "pygments_lexer": "ipython3",
   "version": "3.12.9"
  }
 },
 "nbformat": 4,
 "nbformat_minor": 2
}
