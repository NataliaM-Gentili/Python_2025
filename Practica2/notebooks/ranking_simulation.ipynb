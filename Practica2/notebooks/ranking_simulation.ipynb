{
 "cells": [
  {
   "cell_type": "markdown",
   "metadata": {},
   "source": [
    "#   SIMULACIÓN DE PARTIDAS Y RANKING \n",
    "#         EN SHOOTER ONLINE"
   ]
  },
  {
   "cell_type": "markdown",
   "metadata": {},
   "source": [
    "Simularemos varias partidas de un juego de disparos. Cada jugador obtendrá un puntaje por ronda y un puntaje final acorde a la cantidad de kills, asistencias y muertes."
   ]
  },
  {
   "cell_type": "markdown",
   "metadata": {},
   "source": [
    "Primero, configuremos el path para poder importar las funciones:"
   ]
  },
  {
   "cell_type": "code",
   "execution_count": 2,
   "metadata": {},
   "outputs": [],
   "source": [
    "import sys\n",
    "import os\n",
    "\n",
    "modulo_path = sys.path.append(os.path.abspath(\"../src\"))\n",
    "sys.path.append(modulo_path)\n"
   ]
  },
  {
   "cell_type": "markdown",
   "metadata": {},
   "source": [
    "Ahora, debemos importar todas las funciones que utilizaremos para el desarrollo del programa:"
   ]
  },
  {
   "cell_type": "code",
   "execution_count": 3,
   "metadata": {},
   "outputs": [],
   "source": [
    "\n",
    "from funciones import funciones_principales"
   ]
  },
  {
   "cell_type": "markdown",
   "metadata": {},
   "source": [
    "En este contexto, \"funciones\" es una carpeta y \"funciones_principales\" son aquellas que se utilizan en el Programa Principal de este ejercicio."
   ]
  },
  {
   "cell_type": "markdown",
   "metadata": {},
   "source": [
    "Vease también que dentro de \"funciones\" hay un programa llamado \"funciones_internas\", que son aquellas llamadas únicamente \n",
    "desde dentro de otras funciones y que no tienen contacto directo con el Programa Principal."
   ]
  },
  {
   "cell_type": "markdown",
   "metadata": {},
   "source": [
    "Cargamos los datos de la partida:"
   ]
  },
  {
   "cell_type": "code",
   "execution_count": 4,
   "metadata": {},
   "outputs": [],
   "source": [
    "rounds = [\n",
    "    {\n",
    "    'Shadow': {'kills': 2, 'assists': 1, 'deaths': True},\n",
    "    'Blaze': {'kills': 1, 'assists': 0, 'deaths': False},\n",
    "    'Viper': {'kills': 1, 'assists': 2, 'deaths': True},\n",
    "    'Frost': {'kills': 0, 'assists': 1, 'deaths': False},\n",
    "    'Reaper': {'kills': 1, 'assists': 1, 'deaths': False}\n",
    "    },\n",
    "    {\n",
    "    'Shadow': {'kills': 0, 'assists': 2, 'deaths': False},\n",
    "    'Blaze': {'kills': 2, 'assists': 0, 'deaths': True},\n",
    "    'Viper': {'kills': 0, 'assists': 1, 'deaths': False},\n",
    "    'Frost': {'kills': 2, 'assists': 1, 'deaths': True},\n",
    "    'Reaper': {'kills': 0, 'assists': 1, 'deaths': False}\n",
    "    },\n",
    "    {\n",
    "    'Shadow': {'kills': 1, 'assists': 0, 'deaths': False},\n",
    "    'Blaze': {'kills': 2, 'assists': 2, 'deaths': True},\n",
    "    'Viper': {'kills': 1, 'assists': 1, 'deaths': True},\n",
    "    'Frost': {'kills': 0, 'assists': 1, 'deaths': False},\n",
    "    'Reaper': {'kills': 1, 'assists': 1, 'deaths': False}\n",
    "    },\n",
    "    {\n",
    "    'Shadow': {'kills': 2, 'assists': 1, 'deaths': False},\n",
    "    'Blaze': {'kills': 1, 'assists': 0, 'deaths': True},\n",
    "    'Viper': {'kills': 0, 'assists': 2, 'deaths': False},\n",
    "    'Frost': {'kills': 8, 'assists': 1, 'deaths': True},\n",
    "    'Reaper': {'kills': 1, 'assists': 1, 'deaths': False}\n",
    "    },\n",
    "    {\n",
    "    'Shadow': {'kills': 1, 'assists': 2, 'deaths': True},\n",
    "    'Blaze': {'kills': 0, 'assists': 1, 'deaths': False},\n",
    "    'Viper': {'kills': 2, 'assists': 0, 'deaths': True},\n",
    "    'Frost': {'kills': 1, 'assists': 1, 'deaths': False},\n",
    "    'Reaper': {'kills': 20, 'assists': 1, 'deaths': True}\n",
    "    }\n",
    "]"
   ]
  },
  {
   "cell_type": "markdown",
   "metadata": {},
   "source": [
    "# Observar \n",
    "Se modificaron algunos valores de los jugadores con el objetivo de evidenciar cómo la tabla se ordena siempre en orden decreciente."
   ]
  },
  {
   "cell_type": "code",
   "execution_count": 5,
   "metadata": {},
   "outputs": [
    {
     "name": "stdout",
     "output_type": "stream",
     "text": [
      "                               RANKING RONDA 0 \n",
      "                                \n",
      "HOLAAAAAAAAAAAAAAAA\n",
      "dict_items([('Shadow', {'kills': 2, 'assists': 1, 'deaths': -1, 'MVPs': 0, 'score': 6}), ('Blaze', {'kills': 1, 'assists': 0, 'deaths': 0, 'MVPs': 0, 'score': 3}), ('Viper', {'kills': 1, 'assists': 2, 'deaths': -1, 'MVPs': 0, 'score': 4}), ('Frost', {'kills': 0, 'assists': 1, 'deaths': 0, 'MVPs': 0, 'score': 1}), ('Reaper', {'kills': 1, 'assists': 1, 'deaths': 0, 'MVPs': 0, 'score': 4})])\n",
      "              ESTA RONDA              |          ESTADISTICAS TOTALES \n",
      "\n",
      "Player   Kills Assists Deaths Points  |   Player   Kills Assists Deaths  MVPs  Points\n",
      "-------------------------------------------------------------------------------------\n",
      "Shadow     2     1      -1      6     |  Shadow     2     1      -1      1     6 \n",
      "Viper      1     2      -1      4     |  Viper      1     2      -1      0     4 \n",
      "Reaper     1     1      0       4     |  Reaper     1     1      0       0     4 \n",
      "Blaze      1     0      0       3     |  Blaze      1     0      0       0     3 \n",
      "Frost      0     1      0       1     |  Frost      0     1      0       0     1 \n",
      "\n",
      "\n",
      "                           MVP DE LA RONDA: Shadow \n",
      "                            \n",
      "                  ----------------------------------------- \n",
      "                   \n",
      "                               RANKING RONDA 1 \n",
      "                                \n",
      "HOLAAAAAAAAAAAAAAAA\n",
      "dict_items([('Shadow', {'kills': 2, 'assists': 3, 'deaths': -1, 'MVPs': 1, 'score': 8}), ('Blaze', {'kills': 3, 'assists': 0, 'deaths': -1, 'MVPs': 0, 'score': 8}), ('Viper', {'kills': 1, 'assists': 3, 'deaths': -1, 'MVPs': 0, 'score': 5}), ('Frost', {'kills': 2, 'assists': 2, 'deaths': -1, 'MVPs': 0, 'score': 7}), ('Reaper', {'kills': 1, 'assists': 2, 'deaths': 0, 'MVPs': 0, 'score': 5})])\n",
      "              ESTA RONDA              |          ESTADISTICAS TOTALES \n",
      "\n",
      "Player   Kills Assists Deaths Points  |   Player   Kills Assists Deaths  MVPs  Points\n",
      "-------------------------------------------------------------------------------------\n",
      "Frost      2     1      -1      6     |  Shadow     2     3      -1      1     8 \n",
      "Blaze      2     0      -1      5     |  Blaze      3     0      -1      0     8 \n",
      "Shadow     0     2      0       2     |  Frost      2     2      -1      1     7 \n",
      "Viper      0     1      0       1     |  Viper      1     3      -1      0     5 \n",
      "Reaper     0     1      0       1     |  Reaper     1     2      0       0     5 \n",
      "\n",
      "\n",
      "                            MVP DE LA RONDA: Frost \n",
      "                            \n",
      "                  ----------------------------------------- \n",
      "                   \n",
      "                               RANKING RONDA 2 \n",
      "                                \n",
      "HOLAAAAAAAAAAAAAAAA\n",
      "dict_items([('Shadow', {'kills': 3, 'assists': 3, 'deaths': -1, 'MVPs': 1, 'score': 11}), ('Blaze', {'kills': 5, 'assists': 2, 'deaths': -2, 'MVPs': 0, 'score': 15}), ('Viper', {'kills': 2, 'assists': 4, 'deaths': -2, 'MVPs': 0, 'score': 8}), ('Frost', {'kills': 2, 'assists': 3, 'deaths': -1, 'MVPs': 1, 'score': 8}), ('Reaper', {'kills': 2, 'assists': 3, 'deaths': 0, 'MVPs': 0, 'score': 9})])\n",
      "              ESTA RONDA              |          ESTADISTICAS TOTALES \n",
      "\n",
      "Player   Kills Assists Deaths Points  |   Player   Kills Assists Deaths  MVPs  Points\n",
      "-------------------------------------------------------------------------------------\n",
      "Blaze      2     2      -1      7     |  Blaze      5     2      -2      1     15\n",
      "Reaper     1     1      0       4     |  Shadow     3     3      -1      1     11\n",
      "Shadow     1     0      0       3     |  Reaper     2     3      0       0     9 \n",
      "Viper      1     1      -1      3     |  Viper      2     4      -2      0     8 \n",
      "Frost      0     1      0       1     |  Frost      2     3      -1      1     8 \n",
      "\n",
      "\n",
      "                            MVP DE LA RONDA: Blaze \n",
      "                            \n",
      "                  ----------------------------------------- \n",
      "                   \n",
      "                               RANKING RONDA 3 \n",
      "                                \n",
      "HOLAAAAAAAAAAAAAAAA\n",
      "dict_items([('Shadow', {'kills': 5, 'assists': 4, 'deaths': -1, 'MVPs': 1, 'score': 18}), ('Blaze', {'kills': 6, 'assists': 2, 'deaths': -3, 'MVPs': 1, 'score': 17}), ('Viper', {'kills': 2, 'assists': 6, 'deaths': -2, 'MVPs': 0, 'score': 10}), ('Frost', {'kills': 10, 'assists': 4, 'deaths': -2, 'MVPs': 1, 'score': 32}), ('Reaper', {'kills': 3, 'assists': 4, 'deaths': 0, 'MVPs': 0, 'score': 13})])\n",
      "              ESTA RONDA              |          ESTADISTICAS TOTALES \n",
      "\n",
      "Player   Kills Assists Deaths Points  |   Player   Kills Assists Deaths  MVPs  Points\n",
      "-------------------------------------------------------------------------------------\n",
      "Frost      8     1      -1      24    |  Frost      10    4      -2      2     32\n",
      "Shadow     2     1      0       7     |  Shadow     5     4      -1      1     18\n",
      "Reaper     1     1      0       4     |  Blaze      6     2      -3      1     17\n",
      "Blaze      1     0      -1      2     |  Reaper     3     4      0       0     13\n",
      "Viper      0     2      0       2     |  Viper      2     6      -2      0     10\n",
      "\n",
      "\n",
      "                            MVP DE LA RONDA: Frost \n",
      "                            \n",
      "                  ----------------------------------------- \n",
      "                   \n",
      "                               RANKING RONDA 4 \n",
      "                                \n",
      "HOLAAAAAAAAAAAAAAAA\n",
      "dict_items([('Shadow', {'kills': 6, 'assists': 6, 'deaths': -2, 'MVPs': 1, 'score': 22}), ('Blaze', {'kills': 6, 'assists': 3, 'deaths': -3, 'MVPs': 1, 'score': 18}), ('Viper', {'kills': 4, 'assists': 6, 'deaths': -3, 'MVPs': 0, 'score': 15}), ('Frost', {'kills': 11, 'assists': 5, 'deaths': -2, 'MVPs': 2, 'score': 36}), ('Reaper', {'kills': 23, 'assists': 5, 'deaths': -1, 'MVPs': 0, 'score': 73})])\n",
      "              ESTA RONDA              |          ESTADISTICAS TOTALES \n",
      "\n",
      "Player   Kills Assists Deaths Points  |   Player   Kills Assists Deaths  MVPs  Points\n",
      "-------------------------------------------------------------------------------------\n",
      "Reaper     20    1      -1      60    |  Reaper     23    5      -1      1     73\n",
      "Viper      2     0      -1      5     |  Frost      11    5      -2      2     36\n",
      "Shadow     1     2      -1      4     |  Shadow     6     6      -2      1     22\n",
      "Frost      1     1      0       4     |  Blaze      6     3      -3      1     18\n",
      "Blaze      0     1      0       1     |  Viper      4     6      -3      0     15\n",
      "\n",
      "\n",
      "                           MVP DE LA RONDA: Reaper \n",
      "                            \n",
      "                  ----------------------------------------- \n",
      "                   \n",
      "                                RANKING FINAL \n",
      "                                 \n",
      "                  Player   Kills Assists Deaths  MVPs  Points                   \n",
      "                -----------------------------------------------                 \n",
      "                  Reaper     23    5      -1      1     73                  \n",
      "                  Frost      11    5      -2      2     36                  \n",
      "                  Shadow     6     6      -2      1     22                  \n",
      "                  Blaze      6     3      -3      1     18                  \n",
      "                  Viper      4     6      -3      0     15                  \n",
      "               ----------------------------------------------- \n",
      "                \n",
      "                          REAPER ES UN DESTRUCTOR!! \n",
      "                           \n"
     ]
    }
   ],
   "source": [
    "\n",
    "this_round = funciones_principales.initialize_data(rounds)\n",
    "total_points = funciones_principales.initialize_data(rounds)\n",
    "if (len(rounds) > 0):\n",
    "    total = funciones_principales.process_data(rounds, this_round, total_points)\n",
    "    funciones_principales.ranking_final(total)\n",
    "else:\n",
    "    print(\"\\n No hay jugadores en la partida! \\n\")\n",
    "\n"
   ]
  },
  {
   "cell_type": "code",
   "execution_count": 6,
   "metadata": {},
   "outputs": [
    {
     "name": "stdout",
     "output_type": "stream",
     "text": [
      "Selected Jupyter core packages...\n",
      "IPython          : 9.0.2\n",
      "ipykernel        : 6.29.5\n",
      "ipywidgets       : not installed\n",
      "jupyter_client   : 8.6.3\n",
      "jupyter_core     : 5.7.2\n",
      "jupyter_server   : not installed\n",
      "jupyterlab       : not installed\n",
      "nbclient         : not installed\n",
      "nbconvert        : not installed\n",
      "nbformat         : not installed\n",
      "notebook         : not installed\n",
      "qtconsole        : not installed\n",
      "traitlets        : 5.14.3\n"
     ]
    }
   ],
   "source": [
    "!jupyter --version\n"
   ]
  }
 ],
 "metadata": {
  "kernelspec": {
   "display_name": "venv",
   "language": "python",
   "name": "python3"
  },
  "language_info": {
   "codemirror_mode": {
    "name": "ipython",
    "version": 3
   },
   "file_extension": ".py",
   "mimetype": "text/x-python",
   "name": "python",
   "nbconvert_exporter": "python",
   "pygments_lexer": "ipython3",
   "version": "3.12.9"
  }
 },
 "nbformat": 4,
 "nbformat_minor": 4
}
