{
 "cells": [
  {
   "cell_type": "markdown",
   "metadata": {},
   "source": [
    "(Ej6) Disponemos descripciones de Twitch. "
   ]
  },
  {
   "cell_type": "code",
   "execution_count": 2,
   "metadata": {},
   "outputs": [],
   "source": [
    "descriptions = [\n",
    "\"Streaming de música en vivo con covers y música composiciones\",\n",
    "\"Charla interactiva con la audiencia sobre series y películas\",\n",
    "\"Jugamos a juegos retro y charlamos sobre su historia\",\n",
    "\"Exploramos la mejor música de los 80s y 90s\",\n",
    "\"Programa de entretenimiento con noticias y curiosidades del mundo gamer\",\n",
    "\"Sesión de charla con invitados especiales del mundo del streaming\",\n",
    "\"Música en directo con improvisaciones y peticiones del chat\",\n",
    "\"Un espacio para charlar relajada sobre tecnología y cultura digital\",\n",
    "\"Exploramos el impacto de la música en los videojuegos clásicos\"\n",
    "]"
   ]
  },
  {
   "cell_type": "markdown",
   "metadata": {},
   "source": [
    "Queremos saber cuántas menciones tenemos de:\n",
    "    . Entretenimiento\n",
    "    . Música\n",
    "    . Charla"
   ]
  },
  {
   "cell_type": "code",
   "execution_count": 3,
   "metadata": {},
   "outputs": [],
   "source": [
    "musica = 0\n",
    "charla = 0\n",
    "entretenimiento = 0\n",
    "for line in descriptions:\n",
    "    words = line.split()\n",
    "    for act in words:\n",
    "        if act.lower() == \"música\":\n",
    "            musica = musica + 1\n",
    "            break #dejamos de analizar el renglon\n",
    "        elif act.lower() == \"charla\":\n",
    "            charla = charla + 1\n",
    "            break\n",
    "        elif act.lower() == \"entretenimiento\":\n",
    "            entretenimiento = entretenimiento + 1\n",
    "            break\n"
   ]
  },
  {
   "cell_type": "markdown",
   "metadata": {},
   "source": [
    "Veamos que imprime!"
   ]
  },
  {
   "cell_type": "code",
   "execution_count": 4,
   "metadata": {},
   "outputs": [
    {
     "name": "stdout",
     "output_type": "stream",
     "text": [
      " Menciones de 'musica': 4\n",
      " Menciones de 'charla': 2\n",
      " Menciones de 'entretenimiento': 1\n"
     ]
    }
   ],
   "source": [
    "print(f\" Menciones de 'musica': {musica}\")\n",
    "print(f\" Menciones de 'charla': {charla}\")\n",
    "print(f\" Menciones de 'entretenimiento': {entretenimiento}\")"
   ]
  },
  {
   "cell_type": "markdown",
   "metadata": {},
   "source": [
    "Probemos más funciones.."
   ]
  },
  {
   "cell_type": "markdown",
   "metadata": {},
   "source": [
    "(Ej7) Queremos generar un código de descuento aleatorio para un usuario basándonos en su nombre y en la fecha actual. El resto deben ser números o letras aleatorias. "
   ]
  },
  {
   "cell_type": "markdown",
   "metadata": {},
   "source": [
    "Pautas:\n",
    "    . La longitud del código debe ser estrictamente de 30 caracteres\n",
    "    . Todas las letras deben ser mayúsculas\n",
    "    . El usuario debe ingresarse por teclado y no puede excederse de 15 caracteres."
   ]
  },
  {
   "cell_type": "code",
   "execution_count": 19,
   "metadata": {},
   "outputs": [
    {
     "name": "stdout",
     "output_type": "stream",
     "text": [
      "Codigo de descuento generado: STREAMERPRO-2025324-SV0DOIWH73\n",
      "Longitud 30\n"
     ]
    }
   ],
   "source": [
    "import random\n",
    "import string\n",
    "\n",
    "while True:\n",
    "    name = input(\"Ingrese nombre de usuario con menos de 15 caracteres: \").upper()\n",
    "    if (len(name) < 0) or (len(name)>15):\n",
    "        print(\"USUARIO NO VALIDO\")\n",
    "    else:\n",
    "        break\n",
    "date = \"-2025324-\"\n",
    "random_characters = ''.join(random.choices(string.ascii_uppercase + string.digits, k=(30-len(name)-len(date))))\n",
    "code = name + date + random_characters\n",
    "\n",
    "print(f\"Codigo de descuento generado: {code}\")\n",
    "print(f\"Longitud {len(code)}\") #corroboración"
   ]
  },
  {
   "cell_type": "markdown",
   "metadata": {},
   "source": [
    "(Ej8) Ahora, queremos ver si dos palabras ingresadas son alagramas"
   ]
  },
  {
   "cell_type": "markdown",
   "metadata": {},
   "source": [
    "EJEMPLO:    \n",
    "primera palabra: amor |\n",
    "segunda palabra: roma |\n",
    "Son anagramas.\n",
    "\n",
    "primera palabra: python |\n",
    "segunda palabra: java |\n",
    "No son anagramas."
   ]
  },
  {
   "cell_type": "code",
   "execution_count": 22,
   "metadata": {},
   "outputs": [
    {
     "name": "stdout",
     "output_type": "stream",
     "text": [
      "No son anagramas\n"
     ]
    }
   ],
   "source": [
    "print(\"Son anagramas\" if sorted(input(\"Ingrese la primera palabra: \")) == sorted(input(\"Ingrese la segunda palabra: \")) else \"No son anagramas\")"
   ]
  },
  {
   "cell_type": "markdown",
   "metadata": {},
   "source": [
    "¿Qué hace el código anterior?\n",
    "Simplemente ordena las palabras y compara las letras! si son alagramas deben contener las mismas letras por más que el orden sea diferente."
   ]
  },
  {
   "cell_type": "markdown",
   "metadata": {},
   "source": [
    "# POR ÚLTIMO..."
   ]
  },
  {
   "cell_type": "markdown",
   "metadata": {},
   "source": [
    "Disponemos una lista de clientes con algunos errores. Deseamos limpiar y estandarizar los datos."
   ]
  },
  {
   "cell_type": "code",
   "execution_count": 25,
   "metadata": {},
   "outputs": [],
   "source": [
    "clients = [\n",
    "\" Ana López \",\"Pedro Gómez\", \"maria martínez\", \"Pedro Gómez \", \"\",\n",
    "\" Luis Rodríguez \", None, \"ana lópez\", \"JUAN PÉREZ\", \"MARTA SUÁREZ\",\n",
    "\"luis rodríguez\", \"maría martínez \", \" claudia torres\", \"CLAUDIA TORRES\", \n",
    "\" \", \"pedro gómez\", \"Juan Pérez\", None, \"Ricardo Fernández\", \"LAURA RAMOS\",\n",
    "\"carlos mendes\",\"RICARDO FERNÁNDEZ \", \" Laura ramos\", \"CARLOS MENDES\",\n",
    "\"alejandro gonzález\", \" ALEJANDRO GONZÁLEZ \", \"Patricia Vega\",\n",
    "\"patricia VEGA\", \"Andrés Ocampo\", \" andrés ocampo\", \"Monica Herrera\",\n",
    "\"MONICA HERRERA \", \"gabriela ruíz\", \"Gabriela Ruíz\", \"sandra morales\",\n",
    "\"SANDRA MORALES\", \"miguel ángel\", \"Miguel Ángel \", \" Damián Castillo\",\n",
    "\"Damián Castillo \", None, \"\", \" \"\n",
    "]"
   ]
  },
  {
   "cell_type": "code",
   "execution_count": 26,
   "metadata": {},
   "outputs": [
    {
     "name": "stdout",
     "output_type": "stream",
     "text": [
      "Lista limpia de clientes:\n",
      "Ana López\n",
      "Pedro Gómez\n",
      "Maria Martínez\n",
      "Luis Rodríguez\n",
      "Juan Pérez\n",
      "Marta Suárez\n",
      "María Martínez\n",
      "Claudia Torres\n",
      "Ricardo Fernández\n",
      "Laura Ramos\n",
      "Carlos Mendes\n",
      "Alejandro González\n",
      "Patricia Vega\n",
      "Andrés Ocampo\n",
      "Monica Herrera\n",
      "Gabriela Ruíz\n",
      "Sandra Morales\n",
      "Miguel Ángel\n",
      "Damián Castillo\n"
     ]
    }
   ],
   "source": [
    "clean_list = [\n",
    "]\n",
    "\n",
    "# recorro toda la lista\n",
    "for cliente in clients:\n",
    "    # verifico que el cliente exista\n",
    "    if cliente:\n",
    "        # elimino espacios delante y detrás del nombre\n",
    "        # agregamos el formato title (la primer letra es mayúscula)\n",
    "        cliente = cliente.strip().title()\n",
    "        # si no es un elemento vacio\n",
    "        if cliente != \"\": \n",
    "            # si no está repetido lo agregamos\n",
    "            if cliente not in clean_list:\n",
    "                clean_list.append(cliente)\n",
    "\n",
    "print(\"Lista limpia de clientes:\")\n",
    "for cliente in clean_list:\n",
    "    print(cliente)"
   ]
  },
  {
   "cell_type": "markdown",
   "metadata": {},
   "source": [
    "# Nos vemos la próxima. A seguir programando!!"
   ]
  }
 ],
 "metadata": {
  "kernelspec": {
   "display_name": "venv",
   "language": "python",
   "name": "python3"
  },
  "language_info": {
   "codemirror_mode": {
    "name": "ipython",
    "version": 3
   },
   "file_extension": ".py",
   "mimetype": "text/x-python",
   "name": "python",
   "nbconvert_exporter": "python",
   "pygments_lexer": "ipython3",
   "version": "3.12.9"
  }
 },
 "nbformat": 4,
 "nbformat_minor": 2
}
